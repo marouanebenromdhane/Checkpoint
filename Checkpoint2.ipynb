{
 "cells": [
  {
   "cell_type": "code",
   "execution_count": 15,
   "metadata": {},
   "outputs": [
    {
     "name": "stdout",
     "output_type": "stream",
     "text": [
      "print number of elements:3\n",
      "234.345\n",
      "345.67\n",
      "34\n",
      "28, 34, 11\n"
     ]
    }
   ],
   "source": [
    "#*******************Question 7**********************\n",
    "\n",
    "import math\n",
    "LIST = []\n",
    "LISTE = []\n",
    "\n",
    "Q=int()\n",
    "\n",
    "elements = int(input('print number of elements:'))\n",
    "for i in range(elements):\n",
    "    d = float(input())\n",
    "    LIST.append(round(d))\n",
    "for j in LIST:\n",
    "    Q=math.sqrt((2*50*j)/30)\n",
    "    LISTE.append(round(Q))\n",
    "LIST_STR=str(LISTE)\n",
    "print (str(LIST_STR)[1:-1])\n"
   ]
  },
  {
   "cell_type": "code",
   "execution_count": 5,
   "metadata": {},
   "outputs": [
    {
     "name": "stdout",
     "output_type": "stream",
     "text": [
      "2002\n",
      "2009\n",
      "2016\n",
      "2023\n",
      "2037\n",
      "2044\n",
      "2051\n",
      "2058\n",
      "2072\n",
      "2079\n",
      "2086\n",
      "2093\n",
      "2107\n",
      "2114\n",
      "2121\n",
      "2128\n",
      "2142\n",
      "2149\n",
      "2156\n",
      "2163\n",
      "2177\n",
      "2184\n",
      "2191\n",
      "2198\n",
      "2212\n",
      "2219\n",
      "2226\n",
      "2233\n",
      "2247\n",
      "2254\n",
      "2261\n",
      "2268\n",
      "2282\n",
      "2289\n",
      "2296\n",
      "2303\n",
      "2317\n",
      "2324\n",
      "2331\n",
      "2338\n",
      "2352\n",
      "2359\n",
      "2366\n",
      "2373\n",
      "2387\n",
      "2394\n",
      "2401\n",
      "2408\n",
      "2422\n",
      "2429\n",
      "2436\n",
      "2443\n",
      "2457\n",
      "2464\n",
      "2471\n",
      "2478\n",
      "2492\n",
      "2499\n",
      "2506\n",
      "2513\n",
      "2527\n",
      "2534\n",
      "2541\n",
      "2548\n",
      "2562\n",
      "2569\n",
      "2576\n",
      "2583\n",
      "2597\n",
      "2604\n",
      "2611\n",
      "2618\n",
      "2632\n",
      "2639\n",
      "2646\n",
      "2653\n",
      "2667\n",
      "2674\n",
      "2681\n",
      "2688\n",
      "2702\n",
      "2709\n",
      "2716\n",
      "2723\n",
      "2737\n",
      "2744\n",
      "2751\n",
      "2758\n",
      "2772\n",
      "2779\n",
      "2786\n",
      "2793\n",
      "2807\n",
      "2814\n",
      "2821\n",
      "2828\n",
      "2842\n",
      "2849\n",
      "2856\n",
      "2863\n",
      "2877\n",
      "2884\n",
      "2891\n",
      "2898\n",
      "2912\n",
      "2919\n",
      "2926\n",
      "2933\n",
      "2947\n",
      "2954\n",
      "2961\n",
      "2968\n",
      "2982\n",
      "2989\n",
      "2996\n",
      "3003\n",
      "3017\n",
      "3024\n",
      "3031\n",
      "3038\n",
      "3052\n",
      "3059\n",
      "3066\n",
      "3073\n",
      "3087\n",
      "3094\n",
      "3101\n",
      "3108\n",
      "3122\n",
      "3129\n",
      "3136\n",
      "3143\n",
      "3157\n",
      "3164\n",
      "3171\n",
      "3178\n",
      "3192\n",
      "3199\n"
     ]
    }
   ],
   "source": [
    "#**************Question 1*********************\n",
    "\n",
    "for i in range(2000,3201):\n",
    "    if i%7==0 and i%5!=0:\n",
    "        print(i)"
   ]
  },
  {
   "cell_type": "code",
   "execution_count": 2,
   "metadata": {},
   "outputs": [
    {
     "name": "stdout",
     "output_type": "stream",
     "text": [
      "Enter a number: 5\n",
      "The factorial of 5 is 120\n"
     ]
    }
   ],
   "source": [
    "#*********************Question 2**********************\n",
    "\n",
    "number = int(input(\"Enter a number: \"))    \n",
    "factorial = 1    \n",
    "if number < 0:    \n",
    "    print(\" Factorial does not exist for negative numbers\")    \n",
    "elif number == 0:    \n",
    "    print(\"The factorial of 0 is 1\")    \n",
    "else:    \n",
    "    for i in range(1,number + 1):    \n",
    "        factorial = factorial*i    \n",
    "    print(\"The factorial of\",number,\"is\",factorial)    "
   ]
  },
  {
   "cell_type": "code",
   "execution_count": 2,
   "metadata": {},
   "outputs": [],
   "source": [
    "\n"
   ]
  },
  {
   "cell_type": "code",
   "execution_count": 6,
   "metadata": {},
   "outputs": [
    {
     "name": "stdout",
     "output_type": "stream",
     "text": [
      "give n: 18\n",
      "{1: 1, 2: 4, 3: 9, 4: 16, 5: 25, 6: 36, 7: 49, 8: 64, 9: 81, 10: 100, 11: 121, 12: 144, 13: 169, 14: 196, 15: 225, 16: 256, 17: 289, 18: 324}\n"
     ]
    }
   ],
   "source": [
    "#**************Question 3 **********************\n",
    "\n",
    "n= int(input('give n: '))\n",
    "direct={}\n",
    "key=[]\n",
    "value=[]\n",
    "for i in range(1,n+1):\n",
    "    key.append(i)\n",
    "    value.append(i*i)\n",
    "\n",
    "for i in range(len(key)):\n",
    "    direct[key[i]] = value[i]\n",
    "print(direct)"
   ]
  },
  {
   "cell_type": "code",
   "execution_count": 8,
   "metadata": {},
   "outputs": [
    {
     "name": "stdout",
     "output_type": "stream",
     "text": [
      "give word: marwen\n",
      "give index: 4\n",
      " here we remove e  which is in the index 4\n",
      "marwn\n"
     ]
    }
   ],
   "source": [
    "#**************Question 4 ***************\n",
    "\n",
    "missing_char=str(input('give word: '))\n",
    "n=int(input('give index: '))\n",
    "\n",
    "print(' here we remove',missing_char[n],' which is in the index', n)\n",
    "print(missing_char.replace(missing_char[n],\"\",1))\n"
   ]
  },
  {
   "cell_type": "code",
   "execution_count": 15,
   "metadata": {},
   "outputs": [
    {
     "name": "stdout",
     "output_type": "stream",
     "text": [
      "Original array elements: \n",
      "[[0 1]\n",
      " [2 3]\n",
      " [4 5]]\n",
      "Array to list: [[0, 1], [2, 3], [4, 5]]\n"
     ]
    }
   ],
   "source": [
    "#***************Question 6**************\n",
    "import numpy as np\n",
    "\n",
    "array = np.array([[0,1], [2, 3],[4, 5]])\n",
    "\n",
    "print(f'Original array elements: \\n{array}')\n",
    "\n",
    "list1 = array.tolist()\n",
    "\n",
    "print(f'Array to list: {list1}')"
   ]
  },
  {
   "cell_type": "code",
   "execution_count": 24,
   "metadata": {},
   "outputs": [
    {
     "name": "stdout",
     "output_type": "stream",
     "text": [
      "Enter number of elements in the first original array : 3\n",
      "0\n",
      "1\n",
      "2\n",
      "Enter number of elements in the second original array : 3\n",
      "2\n",
      "1\n",
      "0\n",
      "Original array1:  [0 1 2]\n",
      "Original array2:  [2 1 0]\n",
      "Covariance matrix of the said arrays: \n",
      " [[ 1. -1.]\n",
      " [-1.  1.]]\n"
     ]
    }
   ],
   "source": [
    "#*******************Question 6*************************\n",
    "import numpy as np\n",
    "liste1 = []\n",
    "liste2 = []\n",
    "\n",
    "n = int(input(\"Enter number of elements in the first original array : \"))\n",
    "for i in range(0, n):\n",
    "    Original_liste1 = int(input())\n",
    "    liste1.append(Original_liste1)\n",
    "m = int(input(\"Enter number of elements in the second original array : \"))\n",
    "for j in range(0, m):\n",
    "    Original_liste2 = int(input())\n",
    "    liste2.append(Original_liste2)\n",
    "Original_array1=np.array(liste1)\n",
    "Original_array2=np.array(liste2)\n",
    "print('Original array1: ',Original_array1)\n",
    "print('Original array2: ',Original_array2)\n",
    "\n",
    "Covariance_matrix=np.cov(Original_array1,Original_array2)\n",
    "print('Covariance matrix of the said arrays: \\n',Covariance_matrix)"
   ]
  },
  {
   "cell_type": "code",
   "execution_count": null,
   "metadata": {},
   "outputs": [],
   "source": []
  }
 ],
 "metadata": {
  "kernelspec": {
   "display_name": "Python 3",
   "language": "python",
   "name": "python3"
  },
  "language_info": {
   "codemirror_mode": {
    "name": "ipython",
    "version": 3
   },
   "file_extension": ".py",
   "mimetype": "text/x-python",
   "name": "python",
   "nbconvert_exporter": "python",
   "pygments_lexer": "ipython3",
   "version": "3.7.4"
  }
 },
 "nbformat": 4,
 "nbformat_minor": 2
}
